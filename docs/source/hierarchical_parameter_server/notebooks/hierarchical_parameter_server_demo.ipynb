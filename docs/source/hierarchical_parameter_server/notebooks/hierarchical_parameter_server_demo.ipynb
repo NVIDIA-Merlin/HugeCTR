{
 "cells": [
  {
   "cell_type": "markdown",
   "id": "3cdf9219",
   "metadata": {},
   "source": [
    "<img src=\"http://developer.download.nvidia.com/compute/machine-learning/frameworks/nvidia_logo.png\" style=\"width: 90px; float: right;\">\n",
    "\n",
    "# Hierarchical Parameter Server Demo"
   ]
  },
  {
   "cell_type": "markdown",
   "id": "67a506c2",
   "metadata": {},
   "source": [
    "## Overview\n",
    "\n",
    "Hierarchical Parameter Server (HPS) is a distributed recommendation inference framework, which combines a high-performance GPU embedding cache with an hierarchical storage architecture, to realize low-latency retrieval of embeddings for inference tasks. It is provided as a Python toolkit and can be easily integrated into the TensorFlow (TF) model graph.\n",
    "\n",
    "This notebook demonstrates how to apply HPS to the trained model and then use it for inference in TensorFlow. For more details about HPS APIs, please refer to [HPS APIs](https://nvidia-merlin.github.io/HugeCTR/hierarchical_parameter_server/master/api/index.html). For more details about HPS per se, please refer to [HugeCTR Hierarchical Parameter Server (HPS)](https://nvidia-merlin.github.io/HugeCTR/master/hugectr_parameter_server.html#hugectr-hierarchical-parameter-server-database-backend)."
   ]
  },
  {
   "cell_type": "markdown",
   "id": "fb6cb603",
   "metadata": {},
   "source": [
    "## Installation\n",
    "\n",
    "### Get HPS from NGC\n",
    "\n",
    "The HPS Python module is preinstalled in the 22.08 and later [Merlin TensorFlow Container](https://catalog.ngc.nvidia.com/orgs/nvidia/teams/merlin/containers/merlin-tensorflow): `nvcr.io/nvidia/merlin/merlin-tensorflow:22.08`.\n",
    "\n",
    "You can check the existence of the required libraries by running the following Python code after launching this container.\n",
    "\n",
    "```bash\n",
    "$ python3 -c \"import hierarchical_parameter_server as hps\"\n",
    "```"
   ]
  },
  {
   "cell_type": "markdown",
   "id": "ea2d10ea",
   "metadata": {},
   "source": [
    "## Configurations\n",
    "\n",
    "First of all we specify the required configurations, e.g., the arguments needed for generating the dataset, the paths to save the model and the model parameters. We will use a naive deep neural network (DNN) model which has one embedding table and several dense layers in this notebook."
   ]
  },
  {
   "cell_type": "code",
   "execution_count": 1,
   "id": "2d518642",
   "metadata": {
    "scrolled": true
   },
   "outputs": [
    {
     "name": "stdout",
     "output_type": "stream",
     "text": [
      "[INFO] hierarchical_parameter_server is imported\n"
     ]
    }
   ],
   "source": [
    "import hierarchical_parameter_server as hps\n",
    "import os\n",
    "import numpy as np\n",
    "import tensorflow as tf\n",
    "import struct\n",
    "\n",
    "args = dict()\n",
    "\n",
    "args[\"gpu_num\"] = 1                               # the number of available GPUs\n",
    "args[\"iter_num\"] = 10                             # the number of training iteration\n",
    "args[\"slot_num\"] = 3                              # the number of feature fields in this embedding layer\n",
    "args[\"embed_vec_size\"] = 16                       # the dimension of embedding vectors\n",
    "args[\"global_batch_size\"] = 65536                 # the globally batchsize for all GPUs\n",
    "args[\"max_vocabulary_size\"] = 30000\n",
    "args[\"vocabulary_range_per_slot\"] = [[0,10000],[10000,20000],[20000,30000]]\n",
    "args[\"ps_config_file\"] = \"naive_dnn.json\"\n",
    "args[\"dense_model_path\"] = \"naive_dnn_dense.model\"\n",
    "args[\"embedding_table_path\"] = \"naive_dnn_sparse.model\"\n",
    "args[\"saved_path\"] = \"naive_dnn_tf_saved_model\"\n",
    "args[\"np_key_type\"] = np.int64\n",
    "args[\"np_vector_type\"] = np.float32\n",
    "args[\"tf_key_type\"] = tf.int64\n",
    "args[\"tf_vector_type\"] = tf.float32\n",
    "\n",
    "\n",
    "os.environ[\"CUDA_VISIBLE_DEVICES\"] = \",\".join(map(str, range(args[\"gpu_num\"])))"
   ]
  },
  {
   "cell_type": "code",
   "execution_count": 2,
   "id": "b594d9d6",
   "metadata": {},
   "outputs": [],
   "source": [
    "def generate_random_samples(num_samples, vocabulary_range_per_slot, key_dtype = args[\"np_key_type\"]):\n",
    "    keys = list()\n",
    "    for vocab_range in vocabulary_range_per_slot:\n",
    "        keys_per_slot = np.random.randint(low=vocab_range[0], high=vocab_range[1], size=(num_samples, 1), dtype=key_dtype)\n",
    "        keys.append(keys_per_slot)\n",
    "    keys = np.concatenate(np.array(keys), axis = 1)\n",
    "    labels = np.random.randint(low=0, high=2, size=(num_samples, 1))\n",
    "    return keys, labels\n",
    "\n",
    "def tf_dataset(keys, labels, batchsize):\n",
    "    dataset = tf.data.Dataset.from_tensor_slices((keys, labels))\n",
    "    dataset = dataset.batch(batchsize, drop_remainder=True)\n",
    "    return dataset"
   ]
  },
  {
   "cell_type": "markdown",
   "id": "8d07dfec",
   "metadata": {},
   "source": [
    "## Train with native TF layers\n",
    "\n",
    "We define the model graph for training with native TF layers, i.e., `tf.nn.embedding_lookup` and `tf.keras.layers.Dense`. Besides, the embedding weights are stored in `tf.Variable`. We can then train the model and extract the trained weights of the embedding table. As for the dense layers, they are saved as a separate model graph, which can be loaded directly during inference."
   ]
  },
  {
   "cell_type": "code",
   "execution_count": 3,
   "id": "c6ee256b",
   "metadata": {},
   "outputs": [],
   "source": [
    "class TrainModel(tf.keras.models.Model):\n",
    "    def __init__(self,\n",
    "                 init_tensors,\n",
    "                 slot_num,\n",
    "                 embed_vec_size,\n",
    "                 **kwargs):\n",
    "        super(TrainModel, self).__init__(**kwargs)\n",
    "        \n",
    "        self.slot_num = slot_num\n",
    "        self.embed_vec_size = embed_vec_size\n",
    "        self.init_tensors = init_tensors\n",
    "        self.params = tf.Variable(initial_value=tf.concat(self.init_tensors, axis=0))\n",
    "        self.fc_1 = tf.keras.layers.Dense(units=256, activation=None,\n",
    "                                                 kernel_initializer=\"ones\",\n",
    "                                                 bias_initializer=\"zeros\",\n",
    "                                                 name='fc_1')\n",
    "        self.fc_2 = tf.keras.layers.Dense(units=1, activation=None,\n",
    "                                                 kernel_initializer=\"ones\",\n",
    "                                                 bias_initializer=\"zeros\",\n",
    "                                                 name='fc_2')\n",
    "\n",
    "    def call(self, inputs):\n",
    "        embedding_vector = tf.nn.embedding_lookup(params=self.params, ids=inputs)\n",
    "        embedding_vector = tf.reshape(embedding_vector, shape=[-1, self.slot_num * self.embed_vec_size])\n",
    "        logit = self.fc_2(self.fc_1(embedding_vector))\n",
    "        return logit, embedding_vector\n",
    "\n",
    "    def summary(self):\n",
    "        inputs = tf.keras.Input(shape=(self.slot_num,), dtype=args[\"tf_key_type\"])\n",
    "        model = tf.keras.models.Model(inputs=inputs, outputs=self.call(inputs))\n",
    "        return model.summary()    "
   ]
  },
  {
   "cell_type": "code",
   "execution_count": 4,
   "id": "84160ed6",
   "metadata": {},
   "outputs": [],
   "source": [
    "def train(args):\n",
    "    init_tensors = np.ones(shape=[args[\"max_vocabulary_size\"], args[\"embed_vec_size\"]], dtype=args[\"np_vector_type\"])\n",
    "    \n",
    "    model = TrainModel(init_tensors, args[\"slot_num\"], args[\"embed_vec_size\"])\n",
    "    model.summary()\n",
    "    optimizer = tf.keras.optimizers.Adam(learning_rate=0.1)\n",
    "    \n",
    "    loss_fn = tf.keras.losses.BinaryCrossentropy(from_logits=True)\n",
    "    \n",
    "    def _train_step(inputs, labels):\n",
    "        with tf.GradientTape() as tape:\n",
    "            logit, embedding_vector = model(inputs)\n",
    "            loss = loss_fn(labels, logit)\n",
    "        grads = tape.gradient(loss, model.trainable_variables)\n",
    "        optimizer.apply_gradients(zip(grads, model.trainable_variables))\n",
    "        return logit, embedding_vector, loss\n",
    "\n",
    "    keys, labels = generate_random_samples(args[\"global_batch_size\"]  * args[\"iter_num\"], args[\"vocabulary_range_per_slot\"],  args[\"np_key_type\"])\n",
    "    dataset = tf_dataset(keys, labels, args[\"global_batch_size\"])\n",
    "    for i, (id_tensors, labels) in enumerate(dataset):\n",
    "        _, embedding_vector, loss = _train_step(id_tensors, labels)\n",
    "        print(\"-\"*20, \"Step {}, loss: {}\".format(i, loss),  \"-\"*20)\n",
    "\n",
    "    return model"
   ]
  },
  {
   "cell_type": "code",
   "execution_count": 5,
   "id": "9a92644d",
   "metadata": {},
   "outputs": [
    {
     "name": "stderr",
     "output_type": "stream",
     "text": [
      "2022-07-12 07:49:56.742983: I tensorflow/core/platform/cpu_feature_guard.cc:151] This TensorFlow binary is optimized with oneAPI Deep Neural Network Library (oneDNN) to use the following CPU instructions in performance-critical operations:  AVX2 FMA\n",
      "To enable them in other operations, rebuild TensorFlow with the appropriate compiler flags.\n"
     ]
    },
    {
     "name": "stdout",
     "output_type": "stream",
     "text": [
      "WARNING:tensorflow:The following Variables were used in a Lambda layer's call (tf.compat.v1.nn.embedding_lookup), but are not present in its tracked objects:   <tf.Variable 'Variable:0' shape=(30000, 16) dtype=float32>. This is a strong indication that the Lambda layer should be rewritten as a subclassed Layer.\n",
      "Model: \"model\"\n",
      "_________________________________________________________________\n",
      " Layer (type)                Output Shape              Param #   \n",
      "=================================================================\n",
      " input_1 (InputLayer)        [(None, 3)]               0         \n",
      "                                                                 \n",
      " tf.compat.v1.nn.embedding_l  (None, 3, 16)            0         \n",
      " ookup (TFOpLambda)                                              \n",
      "                                                                 \n",
      " tf.reshape (TFOpLambda)     (None, 48)                0         \n",
      "                                                                 \n",
      " fc_1 (Dense)                (None, 256)               12544     \n",
      "                                                                 \n",
      " fc_2 (Dense)                (None, 1)                 257       \n",
      "                                                                 \n",
      "=================================================================\n",
      "Total params: 12,801\n",
      "Trainable params: 12,801\n",
      "Non-trainable params: 0\n",
      "_________________________________________________________________\n"
     ]
    },
    {
     "name": "stderr",
     "output_type": "stream",
     "text": [
      "2022-07-12 07:49:57.326494: I tensorflow/core/common_runtime/gpu/gpu_device.cc:1525] Created device /job:localhost/replica:0/task:0/device:GPU:0 with 30989 MB memory:  -> device: 0, name: Tesla V100-SXM2-32GB, pci bus id: 0000:06:00.0, compute capability: 7.0\n"
     ]
    },
    {
     "name": "stdout",
     "output_type": "stream",
     "text": [
      "-------------------- Step 0, loss: 6136.6875 --------------------\n",
      "-------------------- Step 1, loss: 4463.05712890625 --------------------\n",
      "-------------------- Step 2, loss: 3192.029296875 --------------------\n",
      "-------------------- Step 3, loss: 2180.40283203125 --------------------\n",
      "-------------------- Step 4, loss: 1419.980712890625 --------------------\n",
      "-------------------- Step 5, loss: 879.0396728515625 --------------------\n",
      "-------------------- Step 6, loss: 513.3021240234375 --------------------\n",
      "-------------------- Step 7, loss: 272.9712219238281 --------------------\n",
      "-------------------- Step 8, loss: 129.147705078125 --------------------\n",
      "-------------------- Step 9, loss: 48.21624755859375 --------------------\n",
      "Model: \"model_1\"\n",
      "_________________________________________________________________\n",
      " Layer (type)                Output Shape              Param #   \n",
      "=================================================================\n",
      " input_2 (InputLayer)        [(None, 48)]              0         \n",
      "                                                                 \n",
      " fc_1 (Dense)                (None, 256)               12544     \n",
      "                                                                 \n",
      " fc_2 (Dense)                (None, 1)                 257       \n",
      "                                                                 \n",
      "=================================================================\n",
      "Total params: 12,801\n",
      "Trainable params: 12,801\n",
      "Non-trainable params: 0\n",
      "_________________________________________________________________\n",
      "WARNING:tensorflow:Compiled the loaded model, but the compiled metrics have yet to be built. `model.compile_metrics` will be empty until you train or evaluate the model.\n"
     ]
    },
    {
     "name": "stderr",
     "output_type": "stream",
     "text": [
      "2022-07-12 07:49:59.645703: W tensorflow/python/util/util.cc:368] Sets are not currently considered sequences, but this may change in the future, so consider avoiding using them.\n"
     ]
    },
    {
     "name": "stdout",
     "output_type": "stream",
     "text": [
      "INFO:tensorflow:Assets written to: naive_dnn_dense.model/assets\n"
     ]
    }
   ],
   "source": [
    "trained_model = train(args)\n",
    "weights_list = trained_model.get_weights()\n",
    "embedding_weights = weights_list[-1]\n",
    "dense_model = tf.keras.models.Model(trained_model.get_layer(\"fc_1\").input, trained_model.get_layer(\"fc_2\").output)\n",
    "dense_model.summary()\n",
    "dense_model.save(args[\"dense_model_path\"])"
   ]
  },
  {
   "cell_type": "markdown",
   "id": "7d1f9dda",
   "metadata": {},
   "source": [
    "## Create the inference graph with HPS LookupLayer\n",
    "In order to use HPS in the inference stage, we need to create a inference model graph which is almost the same as the train graph except that `tf.nn.embedding_lookup` is replaced by `hps.LookupLayer`. The trained dense model graph can be loaded directly, while the embedding weights should be converted to the formats required by HPS. \n",
    "\n",
    "We can then save the inference model graph, which will be ready to be loaded for inference deployment."
   ]
  },
  {
   "cell_type": "code",
   "execution_count": 6,
   "id": "e4c55c18",
   "metadata": {},
   "outputs": [],
   "source": [
    "class InferenceModel(tf.keras.models.Model):\n",
    "    def __init__(self,\n",
    "                 slot_num,\n",
    "                 embed_vec_size,\n",
    "                 dense_model_path,\n",
    "                 **kwargs):\n",
    "        super(InferenceModel, self).__init__(**kwargs)\n",
    "        \n",
    "        self.slot_num = slot_num\n",
    "        self.embed_vec_size = embed_vec_size\n",
    "        self.lookup_layer = hps.LookupLayer(model_name = \"naive_dnn\", \n",
    "                                            table_id = 0,\n",
    "                                            emb_vec_size = self.embed_vec_size,\n",
    "                                            emb_vec_dtype = args[\"tf_vector_type\"],\n",
    "                                            name = \"lookup\")\n",
    "        self.dense_model = tf.keras.models.load_model(dense_model_path)\n",
    "\n",
    "    def call(self, inputs):\n",
    "        embedding_vector = self.lookup_layer(inputs)\n",
    "        embedding_vector = tf.reshape(embedding_vector, shape=[-1, self.slot_num * self.embed_vec_size])\n",
    "        logit = self.dense_model(embedding_vector)\n",
    "        return logit, embedding_vector\n",
    "\n",
    "    def summary(self):\n",
    "        inputs = tf.keras.Input(shape=(self.slot_num,), dtype=args[\"tf_key_type\"])\n",
    "        model = tf.keras.models.Model(inputs=inputs, outputs=self.call(inputs))\n",
    "        return model.summary()"
   ]
  },
  {
   "cell_type": "code",
   "execution_count": 7,
   "id": "b53fc17a",
   "metadata": {},
   "outputs": [],
   "source": [
    "def create_and_save_inference_graph(args): \n",
    "    model = InferenceModel(args[\"slot_num\"], args[\"embed_vec_size\"], args[\"dense_model_path\"])\n",
    "    model.summary()\n",
    "    _, _ = model(tf.keras.Input(shape=(args[\"slot_num\"],), dtype=args[\"tf_key_type\"]))\n",
    "    model.save(args[\"saved_path\"])"
   ]
  },
  {
   "cell_type": "code",
   "execution_count": 8,
   "id": "3108f1b9",
   "metadata": {},
   "outputs": [],
   "source": [
    "def convert_to_sparse_model(embeddings_weights, embedding_table_path, embedding_vec_size):\n",
    "    os.system(\"mkdir -p {}\".format(embedding_table_path))\n",
    "    with open(\"{}/key\".format(embedding_table_path), 'wb') as key_file, \\\n",
    "        open(\"{}/emb_vector\".format(embedding_table_path), 'wb') as vec_file:\n",
    "      for key in range(embeddings_weights.shape[0]):\n",
    "        vec = embeddings_weights[key]\n",
    "        key_struct = struct.pack('q', key)\n",
    "        vec_struct = struct.pack(str(embedding_vec_size) + \"f\", *vec)\n",
    "        key_file.write(key_struct)\n",
    "        vec_file.write(vec_struct)"
   ]
  },
  {
   "cell_type": "code",
   "execution_count": 9,
   "id": "cabf72b5",
   "metadata": {},
   "outputs": [
    {
     "name": "stdout",
     "output_type": "stream",
     "text": [
      "WARNING:tensorflow:No training configuration found in save file, so the model was *not* compiled. Compile it manually.\n",
      "Model: \"model_2\"\n",
      "_________________________________________________________________\n",
      " Layer (type)                Output Shape              Param #   \n",
      "=================================================================\n",
      " input_3 (InputLayer)        [(None, 3)]               0         \n",
      "                                                                 \n",
      " lookup (LookupLayer)        (None, 3, 16)             0         \n",
      "                                                                 \n",
      " tf.reshape_1 (TFOpLambda)   (None, 48)                0         \n",
      "                                                                 \n",
      " model_1 (Functional)        (None, 1)                 12801     \n",
      "                                                                 \n",
      "=================================================================\n",
      "Total params: 12,801\n",
      "Trainable params: 12,801\n",
      "Non-trainable params: 0\n",
      "_________________________________________________________________\n",
      "INFO:tensorflow:Assets written to: naive_dnn_tf_saved_model/assets\n"
     ]
    }
   ],
   "source": [
    "convert_to_sparse_model(embedding_weights, args[\"embedding_table_path\"], args[\"embed_vec_size\"])\n",
    "create_and_save_inference_graph(args)"
   ]
  },
  {
   "cell_type": "markdown",
   "id": "aface1e5",
   "metadata": {},
   "source": [
    "## Inference with saved model graph\n",
    "\n",
    "In order to initialize the lookup service provided by HPS, we also need to create a JSON configuration file and specify the details of the embedding tables for the models to be deployed. We only show how to deploy a model that has one embedding table here, and it can support multiple models with multiple embedding tables actually.\n",
    "\n",
    "We first call `hps.Init` to do the necessary initialization work, and then load the saved model graph to make inference. We peek at the keys and the embedding vectors (it has been reshaped from (None, 3, 16) to (None, 48)) for the last inference batch."
   ]
  },
  {
   "cell_type": "code",
   "execution_count": 10,
   "id": "438d69ec",
   "metadata": {},
   "outputs": [
    {
     "name": "stdout",
     "output_type": "stream",
     "text": [
      "Writing naive_dnn.json\n"
     ]
    }
   ],
   "source": [
    "%%writefile naive_dnn.json\n",
    "{\n",
    "    \"supportlonglong\": true,\n",
    "    \"models\": [{\n",
    "        \"model\": \"naive_dnn\",\n",
    "        \"sparse_files\": [\"naive_dnn_sparse.model\"],\n",
    "        \"num_of_worker_buffer_in_pool\": 3,\n",
    "        \"embedding_table_names\":[\"sparse_embedding1\"],\n",
    "        \"embedding_vecsize_per_table\": [16],\n",
    "        \"maxnum_catfeature_query_per_table_per_sample\": [3],\n",
    "        \"default_value_for_each_table\": [1.0],\n",
    "        \"deployed_device_list\": [0],\n",
    "        \"max_batch_size\": 65536,\n",
    "        \"cache_refresh_percentage_per_iteration\": 0.2,\n",
    "        \"hit_rate_threshold\": 1.0,\n",
    "        \"gpucacheper\": 1.0,\n",
    "        \"gpucache\": true\n",
    "        }\n",
    "    ]\n",
    "}"
   ]
  },
  {
   "cell_type": "code",
   "execution_count": 11,
   "id": "b568a908",
   "metadata": {},
   "outputs": [],
   "source": [
    "def inference_with_saved_model(args):\n",
    "    hps.Init(global_batch_size = args[\"global_batch_size\"],\n",
    "             ps_config_file = args[\"ps_config_file\"])\n",
    "    model = tf.keras.models.load_model(args[\"saved_path\"])\n",
    "    model.summary()\n",
    "    def _infer_step(inputs, labels):\n",
    "        logit, embedding_vector = model(inputs)\n",
    "        return logit, embedding_vector\n",
    "    embedding_vectors_peek = list()\n",
    "    id_tensors_peek = list()\n",
    "    keys, labels = generate_random_samples(args[\"global_batch_size\"]  * args[\"iter_num\"], args[\"vocabulary_range_per_slot\"],  args[\"np_key_type\"])\n",
    "    dataset = tf_dataset(keys, labels, args[\"global_batch_size\"])\n",
    "    for i, (id_tensors, labels) in enumerate(dataset):\n",
    "        print(\"-\"*20, \"Step {}\".format(i),  \"-\"*20)\n",
    "        _, embedding_vector = _infer_step(id_tensors, labels)\n",
    "        embedding_vectors_peek.append(embedding_vector)\n",
    "        id_tensors_peek.append(id_tensors)\n",
    "    return embedding_vectors_peek, id_tensors_peek"
   ]
  },
  {
   "cell_type": "code",
   "execution_count": 12,
   "id": "1b4801f9",
   "metadata": {},
   "outputs": [
    {
     "name": "stdout",
     "output_type": "stream",
     "text": [
      "=====================================================HPS Parse====================================================\n",
      "[HCTR][07:50:25.009][INFO][RK0][main]: dense_file is not specified using default: \n",
      "[HCTR][07:50:25.009][INFO][RK0][main]: num_of_refresher_buffer_in_pool is not specified using default: 1\n",
      "[HCTR][07:50:25.009][INFO][RK0][main]: maxnum_des_feature_per_sample is not specified using default: 26\n",
      "[HCTR][07:50:25.009][INFO][RK0][main]: refresh_delay is not specified using default: 0\n",
      "[HCTR][07:50:25.009][INFO][RK0][main]: refresh_interval is not specified using default: 0\n",
      "====================================================HPS Create====================================================\n",
      "[HCTR][07:50:25.009][INFO][RK0][main]: Creating HashMap CPU database backend...\n",
      "[HCTR][07:50:25.010][INFO][RK0][main]: Volatile DB: initial cache rate = 1\n",
      "[HCTR][07:50:25.010][INFO][RK0][main]: Volatile DB: cache missed embeddings = 0\n",
      "[HCTR][07:50:25.357][INFO][RK0][main]: Table: hps_et.naive_dnn.sparse_embedding1; cached 30000 / 30000 embeddings in volatile database (PreallocatedHashMapBackend); load: 30000 / 18446744073709551615 (0.00%).\n",
      "[HCTR][07:50:25.357][DEBUG][RK0][main]: Real-time subscribers created!\n",
      "[HCTR][07:50:25.357][INFO][RK0][main]: Creating embedding cache in device 0.\n",
      "[HCTR][07:50:25.363][INFO][RK0][main]: Model name: naive_dnn\n",
      "[HCTR][07:50:25.363][INFO][RK0][main]: Number of embedding tables: 1\n",
      "[HCTR][07:50:25.363][INFO][RK0][main]: Use GPU embedding cache: True, cache size percentage: 1.000000\n",
      "[HCTR][07:50:25.363][INFO][RK0][main]: Use I64 input key: True\n",
      "[HCTR][07:50:25.363][INFO][RK0][main]: Configured cache hit rate threshold: 1.000000\n",
      "[HCTR][07:50:25.363][INFO][RK0][main]: The size of thread pool: 80\n",
      "[HCTR][07:50:25.363][INFO][RK0][main]: The size of worker memory pool: 3\n",
      "[HCTR][07:50:25.363][INFO][RK0][main]: The size of refresh memory pool: 1\n",
      "[HCTR][07:50:25.405][INFO][RK0][main]: Creating lookup session for naive_dnn on device: 0\n",
      "WARNING:tensorflow:No training configuration found in save file, so the model was *not* compiled. Compile it manually.\n",
      "Model: \"inference_model\"\n",
      "_________________________________________________________________\n",
      " Layer (type)                Output Shape              Param #   \n",
      "=================================================================\n",
      " lookup (LookupLayer)        multiple                  0         \n",
      "                                                                 \n",
      " model_1 (Functional)        (None, 1)                 12801     \n",
      "                                                                 \n",
      "=================================================================\n",
      "Total params: 12,801\n",
      "Trainable params: 12,801\n",
      "Non-trainable params: 0\n",
      "_________________________________________________________________\n",
      "-------------------- Step 0 --------------------\n",
      "-------------------- Step 1 --------------------\n",
      "-------------------- Step 2 --------------------\n",
      "-------------------- Step 3 --------------------\n",
      "-------------------- Step 4 --------------------\n",
      "-------------------- Step 5 --------------------\n",
      "-------------------- Step 6 --------------------\n",
      "-------------------- Step 7 --------------------\n",
      "-------------------- Step 8 --------------------\n",
      "-------------------- Step 9 --------------------\n",
      "tf.Tensor(\n",
      "[[0.23265739 0.23265739 0.23265739 ... 0.11092357 0.11092357 0.11092357]\n",
      " [0.09594781 0.09594781 0.09594781 ... 0.16974597 0.16974597 0.16974597]\n",
      " [0.22555737 0.22555737 0.22555737 ... 0.20454781 0.20454781 0.20454781]\n",
      " ...\n",
      " [0.22397298 0.22397298 0.22397298 ... 0.1229516  0.1229516  0.1229516 ]\n",
      " [0.12451896 0.12451896 0.12451896 ... 0.21348731 0.21348731 0.21348731]\n",
      " [0.11943579 0.11943579 0.11943579 ... 0.2502464  0.2502464  0.2502464 ]], shape=(65536, 48), dtype=float32)\n",
      "tf.Tensor(\n",
      "[[ 5283 17773 26371]\n",
      " [ 5043 17928 22941]\n",
      " [ 5154 18816 28670]\n",
      " ...\n",
      " [ 9014 16185 22256]\n",
      " [ 9893 14515 25771]\n",
      " [ 5377 18265 28063]], shape=(65536, 3), dtype=int64)\n"
     ]
    }
   ],
   "source": [
    "embedding_vectors_peek, id_tensors_peek = inference_with_saved_model(args)\n",
    "print(embedding_vectors_peek[-1])\n",
    "print(id_tensors_peek[-1])"
   ]
  }
 ],
 "metadata": {
  "kernelspec": {
   "display_name": "Python 3 (ipykernel)",
   "language": "python",
   "name": "python3"
  },
  "language_info": {
   "codemirror_mode": {
    "name": "ipython",
    "version": 3
   },
   "file_extension": ".py",
   "mimetype": "text/x-python",
   "name": "python",
   "nbconvert_exporter": "python",
   "pygments_lexer": "ipython3",
   "version": "3.8.10"
  }
 },
 "nbformat": 4,
 "nbformat_minor": 5
}
